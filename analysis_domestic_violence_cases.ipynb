{
 "cells": [
  {
   "cell_type": "code",
   "execution_count": 0,
   "metadata": {
    "application/vnd.databricks.v1+cell": {
     "cellMetadata": {
      "byteLimit": 2048000,
      "rowLimit": 10000
     },
     "inputWidgets": {},
     "nuid": "bf5d8574-f069-4b0c-82a2-21d148d19911",
     "showTitle": false,
     "title": ""
    }
   },
   "outputs": [],
   "source": [
    "#%fs ls /FileStore/dataset"
   ]
  },
  {
   "cell_type": "code",
   "execution_count": 0,
   "metadata": {
    "application/vnd.databricks.v1+cell": {
     "cellMetadata": {
      "byteLimit": 2048000,
      "rowLimit": 10000
     },
     "inputWidgets": {},
     "nuid": "75937441-2ba9-487b-bc77-082eadd87a56",
     "showTitle": false,
     "title": ""
    }
   },
   "outputs": [],
   "source": [
    "#import libraries\n",
    "from pyspark.sql import SparkSession\n",
    "from pyspark.sql.functions import *\n",
    "from pyspark.sql.types import StructType, StructField, StringType, IntegerType"
   ]
  },
  {
   "cell_type": "code",
   "execution_count": 0,
   "metadata": {
    "application/vnd.databricks.v1+cell": {
     "cellMetadata": {
      "byteLimit": 2048000,
      "rowLimit": 10000
     },
     "inputWidgets": {},
     "nuid": "93d9f4c0-d991-4226-9160-3c03a48dc98a",
     "showTitle": false,
     "title": ""
    }
   },
   "outputs": [],
   "source": [
    "#create spark session\n",
    "spark = SparkSession.builder.appName('Domestic Violence').getOrCreate()"
   ]
  },
  {
   "cell_type": "code",
   "execution_count": 0,
   "metadata": {
    "application/vnd.databricks.v1+cell": {
     "cellMetadata": {
      "byteLimit": 2048000,
      "rowLimit": 10000
     },
     "inputWidgets": {},
     "nuid": "386b95e1-8d47-4d6a-b576-11a2643a630d",
     "showTitle": false,
     "title": ""
    }
   },
   "outputs": [],
   "source": [
    "#Mapping the path of the file\n",
    "FILEPATH = '/FileStore/dataset/Reporte_Delito_Violencia_Intrafamiliar_Polic_a_Nacional.csv'"
   ]
  },
  {
   "cell_type": "code",
   "execution_count": 0,
   "metadata": {
    "application/vnd.databricks.v1+cell": {
     "cellMetadata": {
      "byteLimit": 2048000,
      "rowLimit": 10000
     },
     "inputWidgets": {},
     "nuid": "8a1ea593-0d2a-492b-80d4-e59ded6dc622",
     "showTitle": false,
     "title": ""
    }
   },
   "outputs": [],
   "source": [
    "#Schema for Dataframe\n",
    "SCHEMA = StructType([\n",
    "    StructField('DEPARTAMENTO', StringType(), True),\n",
    "    StructField('MUNICIPIO', StringType(), True),\n",
    "    StructField('CODIGO', StringType(), True),\n",
    "    StructField('ARMAS MEDIOS', StringType(), True),\n",
    "    StructField('FECHA HECHO', StringType(), True),\n",
    "    StructField('GENERO', StringType(), True),\n",
    "    StructField('GRUPO ETARIO', StringType(), True),\n",
    "    StructField('CANTIDAD', IntegerType(), True),\n",
    "])"
   ]
  },
  {
   "cell_type": "code",
   "execution_count": 0,
   "metadata": {
    "application/vnd.databricks.v1+cell": {
     "cellMetadata": {
      "byteLimit": 2048000,
      "rowLimit": 10000
     },
     "inputWidgets": {},
     "nuid": "184d372f-8351-4aeb-b0d0-af4eee088f5c",
     "showTitle": false,
     "title": ""
    }
   },
   "outputs": [
    {
     "output_type": "stream",
     "name": "stdout",
     "output_type": "stream",
     "text": [
      "+------------+-----------------+--------+--------------------+-----------+---------+------------+--------+\n|DEPARTAMENTO|        MUNICIPIO|  CODIGO|        ARMAS MEDIOS|FECHA HECHO|   GENERO|GRUPO ETARIO|CANTIDAD|\n+------------+-----------------+--------+--------------------+-----------+---------+------------+--------+\n|   ATLÁNTICO|BARRANQUILLA (CT)| 8001000|ARMA BLANCA / COR...|  1/01/2010|MASCULINO|     ADULTOS|       1|\n|      BOYACÁ|          DUITAMA|15238000|ARMA BLANCA / COR...|  1/01/2010| FEMENINO|     ADULTOS|       1|\n|     CAQUETÁ|      PUERTO RICO|18592000|ARMA BLANCA / COR...|  1/01/2010|MASCULINO|     ADULTOS|       1|\n|    CASANARE|             MANÍ|85139000|ARMA BLANCA / COR...|  1/01/2010| FEMENINO|     ADULTOS|       1|\n|CUNDINAMARCA| BOGOTÁ D.C. (CT)|11001000|ARMA BLANCA / COR...|  1/01/2010| FEMENINO|     ADULTOS|       1|\n|       SUCRE|   SINCELEJO (CT)|70001000|ARMA BLANCA / COR...|  1/01/2010| FEMENINO|     ADULTOS|       1|\n|       VALLE|        CALI (CT)|76001000|ARMA BLANCA / COR...|  1/01/2010| FEMENINO|     ADULTOS|       2|\n|       VALLE|        CALI (CT)|76001000|ARMA BLANCA / COR...|  1/01/2010|MASCULINO|     ADULTOS|       2|\n|       VALLE|            TULUÁ|76834000|ARMA BLANCA / COR...|  1/01/2010| FEMENINO|     ADULTOS|       1|\n|       HUILA|         PITALITO|41551000|       ARMA DE FUEGO|  1/01/2010| FEMENINO|     ADULTOS|       1|\n|   ANTIOQUIA|        GIRARDOTA| 5308000|        CONTUNDENTES|  1/01/2010| FEMENINO|     ADULTOS|       1|\n|   ANTIOQUIA|           ITAGUI| 5360000|        CONTUNDENTES|  1/01/2010| FEMENINO|     ADULTOS|       2|\n|   ANTIOQUIA|      LA ESTRELLA| 5380000|        CONTUNDENTES|  1/01/2010| FEMENINO|     ADULTOS|       1|\n|   ANTIOQUIA|    MEDELLÍN (CT)| 5001000|        CONTUNDENTES|  1/01/2010| FEMENINO|     ADULTOS|       3|\n|   ANTIOQUIA|    MEDELLÍN (CT)| 5001000|        CONTUNDENTES|  1/01/2010|MASCULINO|     ADULTOS|       1|\n|      ARAUCA|      ARAUCA (CT)|81001000|        CONTUNDENTES|  1/01/2010| FEMENINO|     ADULTOS|       2|\n|   ATLÁNTICO|BARRANQUILLA (CT)| 8001000|        CONTUNDENTES|  1/01/2010| FEMENINO|     ADULTOS|       2|\n|   ATLÁNTICO|BARRANQUILLA (CT)| 8001000|        CONTUNDENTES|  1/01/2010|MASCULINO|     ADULTOS|       1|\n|   ATLÁNTICO|      SABANALARGA| 8638000|        CONTUNDENTES|  1/01/2010| FEMENINO|     ADULTOS|       1|\n|   ATLÁNTICO|          SOLEDAD| 8758000|        CONTUNDENTES|  1/01/2010| FEMENINO|     ADULTOS|       1|\n+------------+-----------------+--------+--------------------+-----------+---------+------------+--------+\nonly showing top 20 rows\n\n"
     ]
    }
   ],
   "source": [
    "# Load file\n",
    "raw_df = spark.read.csv(path=FILEPATH, header=True, schema=SCHEMA, sep=',')\n",
    "raw_df.show()"
   ]
  },
  {
   "cell_type": "code",
   "execution_count": 0,
   "metadata": {
    "application/vnd.databricks.v1+cell": {
     "cellMetadata": {
      "byteLimit": 2048000,
      "rowLimit": 10000
     },
     "inputWidgets": {},
     "nuid": "0bff834b-6888-438a-bb17-2bd7feb85bcb",
     "showTitle": false,
     "title": ""
    }
   },
   "outputs": [
    {
     "output_type": "stream",
     "name": "stdout",
     "output_type": "stream",
     "text": [
      "root\n |-- DEPARTAMENTO: string (nullable = true)\n |-- MUNICIPIO: string (nullable = true)\n |-- CODIGO: string (nullable = true)\n |-- ARMAS MEDIOS: string (nullable = true)\n |-- FECHA HECHO: string (nullable = true)\n |-- GENERO: string (nullable = true)\n |-- GRUPO ETARIO: string (nullable = true)\n |-- CANTIDAD: integer (nullable = true)\n\n"
     ]
    }
   ],
   "source": [
    "raw_df.printSchema()"
   ]
  },
  {
   "cell_type": "code",
   "execution_count": 0,
   "metadata": {
    "application/vnd.databricks.v1+cell": {
     "cellMetadata": {
      "byteLimit": 2048000,
      "rowLimit": 10000
     },
     "inputWidgets": {},
     "nuid": "a39fe9f7-bf67-4a0b-96c4-2bf0cf7bf9bf",
     "showTitle": false,
     "title": ""
    }
   },
   "outputs": [
    {
     "output_type": "display_data",
     "data": {
      "text/html": [
       "<style scoped>\n",
       "  .table-result-container {\n",
       "    max-height: 300px;\n",
       "    overflow: auto;\n",
       "  }\n",
       "  table, th, td {\n",
       "    border: 1px solid black;\n",
       "    border-collapse: collapse;\n",
       "  }\n",
       "  th, td {\n",
       "    padding: 5px;\n",
       "  }\n",
       "  th {\n",
       "    text-align: left;\n",
       "  }\n",
       "</style><div class='table-result-container'><table class='table-result'><thead style='background-color: white'><tr><th>summary</th><th>DEPARTAMENTO</th><th>MUNICIPIO</th><th>CODIGO</th><th>ARMAS MEDIOS</th><th>FECHA HECHO</th><th>GENERO</th><th>GRUPO ETARIO</th><th>CANTIDAD</th></tr></thead><tbody><tr><td>count</td><td>476970</td><td>476970</td><td>476970</td><td>476968</td><td>476970</td><td>476967</td><td>475355</td><td>476970</td></tr><tr><td>mean</td><td>null</td><td>null</td><td>3.775064627790055E7</td><td>null</td><td>44277.5</td><td>null</td><td>null</td><td>1.7077635910015305</td></tr><tr><td>stddev</td><td>null</td><td>null</td><td>2.7493718706527133E7</td><td>null</td><td>47.216825088399965</td><td>null</td><td>null</td><td>3.338647115163399</td></tr><tr><td>min</td><td>AMAZONAS</td><td>ABEJORRAL</td><td>11001000</td><td>-</td><td>1/01/2010</td><td>-</td><td>ADOLESCENTES</td><td>1</td></tr><tr><td>max</td><td>VICHADA</td><td>ÚTICA</td><td>NO REPORTA</td><td>SIN EMPLEO DE ARMAS</td><td>9/12/2020</td><td>NO REPORTA</td><td>NO REPORTA</td><td>130</td></tr></tbody></table></div>"
      ]
     },
     "metadata": {
      "application/vnd.databricks.v1+output": {
       "addedWidgets": {},
       "aggData": [],
       "aggError": "",
       "aggOverflow": false,
       "aggSchema": [],
       "aggSeriesLimitReached": false,
       "aggType": "",
       "arguments": {},
       "columnCustomDisplayInfos": {},
       "data": [
        [
         "count",
         "476970",
         "476970",
         "476970",
         "476968",
         "476970",
         "476967",
         "475355",
         "476970"
        ],
        [
         "mean",
         null,
         null,
         "3.775064627790055E7",
         null,
         "44277.5",
         null,
         null,
         "1.7077635910015305"
        ],
        [
         "stddev",
         null,
         null,
         "2.7493718706527133E7",
         null,
         "47.216825088399965",
         null,
         null,
         "3.338647115163399"
        ],
        [
         "min",
         "AMAZONAS",
         "ABEJORRAL",
         "11001000",
         "-",
         "1/01/2010",
         "-",
         "ADOLESCENTES",
         "1"
        ],
        [
         "max",
         "VICHADA",
         "ÚTICA",
         "NO REPORTA",
         "SIN EMPLEO DE ARMAS",
         "9/12/2020",
         "NO REPORTA",
         "NO REPORTA",
         "130"
        ]
       ],
       "datasetInfos": [],
       "dbfsResultPath": null,
       "isJsonSchema": true,
       "metadata": {},
       "overflow": false,
       "plotOptions": {
        "customPlotOptions": {},
        "displayType": "table",
        "pivotAggregation": null,
        "pivotColumns": null,
        "xColumns": null,
        "yColumns": null
       },
       "removedWidgets": [],
       "schema": [
        {
         "metadata": "{}",
         "name": "summary",
         "type": "\"string\""
        },
        {
         "metadata": "{}",
         "name": "DEPARTAMENTO",
         "type": "\"string\""
        },
        {
         "metadata": "{}",
         "name": "MUNICIPIO",
         "type": "\"string\""
        },
        {
         "metadata": "{}",
         "name": "CODIGO",
         "type": "\"string\""
        },
        {
         "metadata": "{}",
         "name": "ARMAS MEDIOS",
         "type": "\"string\""
        },
        {
         "metadata": "{}",
         "name": "FECHA HECHO",
         "type": "\"string\""
        },
        {
         "metadata": "{}",
         "name": "GENERO",
         "type": "\"string\""
        },
        {
         "metadata": "{}",
         "name": "GRUPO ETARIO",
         "type": "\"string\""
        },
        {
         "metadata": "{}",
         "name": "CANTIDAD",
         "type": "\"string\""
        }
       ],
       "type": "table"
      }
     },
     "output_type": "display_data"
    }
   ],
   "source": [
    "#summary Dataframe\n",
    "describe_df = raw_df.describe()\n",
    "describe_df.display()"
   ]
  },
  {
   "cell_type": "code",
   "execution_count": 0,
   "metadata": {
    "application/vnd.databricks.v1+cell": {
     "cellMetadata": {
      "byteLimit": 2048000,
      "rowLimit": 10000
     },
     "inputWidgets": {},
     "nuid": "d6f59484-4d6d-462d-beb1-12d40a9e9fcb",
     "showTitle": false,
     "title": ""
    }
   },
   "outputs": [
    {
     "output_type": "stream",
     "name": "stdout",
     "output_type": "stream",
     "text": [
      "+------------+-----------------+--------+--------------------+---------+---------+-------+--------+\n|  department|     municipality|    code|           armaments|     date|   gender|  group|quantity|\n+------------+-----------------+--------+--------------------+---------+---------+-------+--------+\n|   ATLÁNTICO|BARRANQUILLA (CT)| 8001000|ARMA BLANCA / COR...|1/01/2010|MASCULINO|ADULTOS|       1|\n|      BOYACÁ|          DUITAMA|15238000|ARMA BLANCA / COR...|1/01/2010| FEMENINO|ADULTOS|       1|\n|     CAQUETÁ|      PUERTO RICO|18592000|ARMA BLANCA / COR...|1/01/2010|MASCULINO|ADULTOS|       1|\n|    CASANARE|             MANÍ|85139000|ARMA BLANCA / COR...|1/01/2010| FEMENINO|ADULTOS|       1|\n|CUNDINAMARCA| BOGOTÁ D.C. (CT)|11001000|ARMA BLANCA / COR...|1/01/2010| FEMENINO|ADULTOS|       1|\n|       SUCRE|   SINCELEJO (CT)|70001000|ARMA BLANCA / COR...|1/01/2010| FEMENINO|ADULTOS|       1|\n|       VALLE|        CALI (CT)|76001000|ARMA BLANCA / COR...|1/01/2010| FEMENINO|ADULTOS|       2|\n|       VALLE|        CALI (CT)|76001000|ARMA BLANCA / COR...|1/01/2010|MASCULINO|ADULTOS|       2|\n|       VALLE|            TULUÁ|76834000|ARMA BLANCA / COR...|1/01/2010| FEMENINO|ADULTOS|       1|\n|       HUILA|         PITALITO|41551000|       ARMA DE FUEGO|1/01/2010| FEMENINO|ADULTOS|       1|\n|   ANTIOQUIA|        GIRARDOTA| 5308000|        CONTUNDENTES|1/01/2010| FEMENINO|ADULTOS|       1|\n|   ANTIOQUIA|           ITAGUI| 5360000|        CONTUNDENTES|1/01/2010| FEMENINO|ADULTOS|       2|\n|   ANTIOQUIA|      LA ESTRELLA| 5380000|        CONTUNDENTES|1/01/2010| FEMENINO|ADULTOS|       1|\n|   ANTIOQUIA|    MEDELLÍN (CT)| 5001000|        CONTUNDENTES|1/01/2010| FEMENINO|ADULTOS|       3|\n|   ANTIOQUIA|    MEDELLÍN (CT)| 5001000|        CONTUNDENTES|1/01/2010|MASCULINO|ADULTOS|       1|\n|      ARAUCA|      ARAUCA (CT)|81001000|        CONTUNDENTES|1/01/2010| FEMENINO|ADULTOS|       2|\n|   ATLÁNTICO|BARRANQUILLA (CT)| 8001000|        CONTUNDENTES|1/01/2010| FEMENINO|ADULTOS|       2|\n|   ATLÁNTICO|BARRANQUILLA (CT)| 8001000|        CONTUNDENTES|1/01/2010|MASCULINO|ADULTOS|       1|\n|   ATLÁNTICO|      SABANALARGA| 8638000|        CONTUNDENTES|1/01/2010| FEMENINO|ADULTOS|       1|\n|   ATLÁNTICO|          SOLEDAD| 8758000|        CONTUNDENTES|1/01/2010| FEMENINO|ADULTOS|       1|\n+------------+-----------------+--------+--------------------+---------+---------+-------+--------+\nonly showing top 20 rows\n\n"
     ]
    }
   ],
   "source": [
    "#Rename columns\n",
    "name_columns = ['department', 'municipality', 'code', 'armaments', 'date', 'gender', 'group', 'quantity']\n",
    "rename_columns_df = raw_df.toDF(*name_columns)\n",
    "\n",
    "rename_columns_df.show()"
   ]
  },
  {
   "cell_type": "code",
   "execution_count": 0,
   "metadata": {
    "application/vnd.databricks.v1+cell": {
     "cellMetadata": {
      "byteLimit": 2048000,
      "rowLimit": 10000
     },
     "inputWidgets": {},
     "nuid": "1a9c2e50-bca1-4757-bf54-0ad04d5ca41f",
     "showTitle": false,
     "title": ""
    }
   },
   "outputs": [
    {
     "output_type": "stream",
     "name": "stdout",
     "output_type": "stream",
     "text": [
      "department:  0\nmunicipality:  0\ncode:  0\narmaments:  2\ndate:  0\ngender:  3\ngroup:  1615\nquantity:  0\n"
     ]
    }
   ],
   "source": [
    "#Checking for null columns\n",
    "department_nulls = rename_columns_df.filter(col('department').isNull()).count()\n",
    "municipality_nulls = rename_columns_df.filter(col('municipality').isNull()).count()\n",
    "code_nulls = rename_columns_df.filter(col('code').isNull()).count()\n",
    "armaments_nulls = rename_columns_df.filter(col('armaments').isNull()).count()\n",
    "date_nulls = rename_columns_df.filter(col('date').isNull()).count()\n",
    "gender_nulls = rename_columns_df.filter(col('gender').isNull()).count()\n",
    "group_nulls = rename_columns_df.filter(col('group').isNull()).count()\n",
    "quantity_nulls = rename_columns_df.filter(col('quantity').isNull()).count()\n",
    "\n",
    "print('department: ', department_nulls)\n",
    "print('municipality: ', municipality_nulls)\n",
    "print('code: ', code_nulls)\n",
    "print('armaments: ', armaments_nulls)\n",
    "print('date: ', date_nulls)\n",
    "print('gender: ', gender_nulls)\n",
    "print('group: ', group_nulls)\n",
    "print('quantity: ', quantity_nulls)"
   ]
  },
  {
   "cell_type": "code",
   "execution_count": 0,
   "metadata": {
    "application/vnd.databricks.v1+cell": {
     "cellMetadata": {
      "byteLimit": 2048000,
      "rowLimit": 10000
     },
     "inputWidgets": {},
     "nuid": "6ba7527c-433e-4f04-973d-eb4bbd2b8a12",
     "showTitle": false,
     "title": ""
    }
   },
   "outputs": [
    {
     "output_type": "stream",
     "name": "stdout",
     "output_type": "stream",
     "text": [
      "armaments:  0\n"
     ]
    }
   ],
   "source": [
    "#Replace nulls - column armaments\n",
    "replace_nulls_armaments_df = rename_columns_df.fillna('SIN EMPLEO DE ARMAS', subset=['armaments'])\n",
    "\n",
    "#-- checkings\n",
    "armaments_nulls = replace_nulls_armaments_df.filter(col('armaments').isNull()).count()\n",
    "print('armaments: ', armaments_nulls)"
   ]
  },
  {
   "cell_type": "code",
   "execution_count": 0,
   "metadata": {
    "application/vnd.databricks.v1+cell": {
     "cellMetadata": {
      "byteLimit": 2048000,
      "rowLimit": 10000
     },
     "inputWidgets": {},
     "nuid": "9813bbd2-6eba-46fe-89d4-a3c671e7f54a",
     "showTitle": false,
     "title": ""
    }
   },
   "outputs": [
    {
     "output_type": "stream",
     "name": "stdout",
     "output_type": "stream",
     "text": [
      "FEMENINO\ngender:  0\n"
     ]
    }
   ],
   "source": [
    "#Replace nulls - column gender\n",
    "# -- calculate mode\n",
    "mode_gender = replace_nulls_armaments_df.groupBy('gender').count().orderBy('count', ascending=False).first()['gender']\n",
    "print(mode_gender)\n",
    "\n",
    "# -- replace\n",
    "replace_nulls_gender_df = replace_nulls_armaments_df.fillna(mode_gender, subset=['gender'])\n",
    "\n",
    "#-- checkings\n",
    "gender_nulls = replace_nulls_gender_df.filter(col('gender').isNull()).count()\n",
    "print('gender: ', gender_nulls)\n"
   ]
  },
  {
   "cell_type": "code",
   "execution_count": 0,
   "metadata": {
    "application/vnd.databricks.v1+cell": {
     "cellMetadata": {
      "byteLimit": 2048000,
      "rowLimit": 10000
     },
     "inputWidgets": {},
     "nuid": "d9ab9004-0242-4fef-b36c-f31bf97d0dc6",
     "showTitle": false,
     "title": ""
    }
   },
   "outputs": [
    {
     "output_type": "stream",
     "name": "stdout",
     "output_type": "stream",
     "text": [
      "group:  0\n"
     ]
    }
   ],
   "source": [
    "#Replace nulls - column group\n",
    "replace_nulls_df = replace_nulls_gender_df.fillna('NO REPORTA', subset=['group'])\n",
    "\n",
    "#-- checkings\n",
    "group_nulls = replace_nulls_df.filter(col('group').isNull()).count()\n",
    "print('group: ', group_nulls)"
   ]
  },
  {
   "cell_type": "code",
   "execution_count": 0,
   "metadata": {
    "application/vnd.databricks.v1+cell": {
     "cellMetadata": {
      "byteLimit": 2048000,
      "rowLimit": 10000
     },
     "inputWidgets": {},
     "nuid": "3e182200-05ee-4824-9add-1396416ac371",
     "showTitle": false,
     "title": ""
    }
   },
   "outputs": [
    {
     "output_type": "stream",
     "name": "stdout",
     "output_type": "stream",
     "text": [
      "department:  0\nmunicipality:  0\ncode:  0\narmaments:  0\ndate:  0\ngender:  0\ngroup:  0\nquantity:  0\n"
     ]
    }
   ],
   "source": [
    "#Checking for null columns\n",
    "department_nulls = replace_nulls_df.filter(col('department').isNull()).count()\n",
    "municipality_nulls = replace_nulls_df.filter(col('municipality').isNull()).count()\n",
    "code_nulls = replace_nulls_df.filter(col('code').isNull()).count()\n",
    "armaments_nulls = replace_nulls_df.filter(col('armaments').isNull()).count()\n",
    "date_nulls = replace_nulls_df.filter(col('date').isNull()).count()\n",
    "gender_nulls = replace_nulls_df.filter(col('gender').isNull()).count()\n",
    "group_nulls = replace_nulls_df.filter(col('group').isNull()).count()\n",
    "quantity_nulls = replace_nulls_df.filter(col('quantity').isNull()).count()\n",
    "\n",
    "print('department: ', department_nulls)\n",
    "print('municipality: ', municipality_nulls)\n",
    "print('code: ', code_nulls)\n",
    "print('armaments: ', armaments_nulls)\n",
    "print('date: ', date_nulls)\n",
    "print('gender: ', gender_nulls)\n",
    "print('group: ', group_nulls)\n",
    "print('quantity: ', quantity_nulls)"
   ]
  },
  {
   "cell_type": "code",
   "execution_count": 0,
   "metadata": {
    "application/vnd.databricks.v1+cell": {
     "cellMetadata": {
      "byteLimit": 2048000,
      "rowLimit": 10000
     },
     "inputWidgets": {},
     "nuid": "58f6f444-ca2f-49a2-9b8a-e53c317e9454",
     "showTitle": false,
     "title": ""
    }
   },
   "outputs": [
    {
     "output_type": "stream",
     "name": "stdout",
     "output_type": "stream",
     "text": [
      "+------------+-----------------+--------+--------------------+----------+---------+-------+--------+\n|  department|     municipality|    code|           armaments|      date|   gender|  group|quantity|\n+------------+-----------------+--------+--------------------+----------+---------+-------+--------+\n|   ATLÁNTICO|BARRANQUILLA (CT)| 8001000|ARMA BLANCA / COR...|2010-01-01|MASCULINO|ADULTOS|       1|\n|      BOYACÁ|          DUITAMA|15238000|ARMA BLANCA / COR...|2010-01-01| FEMENINO|ADULTOS|       1|\n|     CAQUETÁ|      PUERTO RICO|18592000|ARMA BLANCA / COR...|2010-01-01|MASCULINO|ADULTOS|       1|\n|    CASANARE|             MANÍ|85139000|ARMA BLANCA / COR...|2010-01-01| FEMENINO|ADULTOS|       1|\n|CUNDINAMARCA| BOGOTÁ D.C. (CT)|11001000|ARMA BLANCA / COR...|2010-01-01| FEMENINO|ADULTOS|       1|\n+------------+-----------------+--------+--------------------+----------+---------+-------+--------+\nonly showing top 5 rows\n\n"
     ]
    }
   ],
   "source": [
    "#Change format column date\n",
    "cast_datecolumns_df = replace_nulls_df.withColumn('date', expr(\"date_format(to_date(date, 'd/M/yyyy'), 'yyyy-MM-dd')\"))\n",
    "cast_datecolumns_df.show(5)"
   ]
  },
  {
   "cell_type": "code",
   "execution_count": 0,
   "metadata": {
    "application/vnd.databricks.v1+cell": {
     "cellMetadata": {
      "byteLimit": 2048000,
      "rowLimit": 10000
     },
     "inputWidgets": {},
     "nuid": "8d5c5bbe-1c80-4c01-a149-9dda579421fb",
     "showTitle": false,
     "title": ""
    }
   },
   "outputs": [
    {
     "output_type": "stream",
     "name": "stdout",
     "output_type": "stream",
     "text": [
      "+------------+-----------------+--------+--------------------+----------+---------+-------+--------+----+-------+------+\n|  department|     municipality|    code|           armaments|      date|   gender|  group|quantity|year|  month|   day|\n+------------+-----------------+--------+--------------------+----------+---------+-------+--------+----+-------+------+\n|   ATLÁNTICO|BARRANQUILLA (CT)| 8001000|ARMA BLANCA / COR...|2010-01-01|MASCULINO|ADULTOS|       1|2010|January|Friday|\n|      BOYACÁ|          DUITAMA|15238000|ARMA BLANCA / COR...|2010-01-01| FEMENINO|ADULTOS|       1|2010|January|Friday|\n|     CAQUETÁ|      PUERTO RICO|18592000|ARMA BLANCA / COR...|2010-01-01|MASCULINO|ADULTOS|       1|2010|January|Friday|\n|    CASANARE|             MANÍ|85139000|ARMA BLANCA / COR...|2010-01-01| FEMENINO|ADULTOS|       1|2010|January|Friday|\n|CUNDINAMARCA| BOGOTÁ D.C. (CT)|11001000|ARMA BLANCA / COR...|2010-01-01| FEMENINO|ADULTOS|       1|2010|January|Friday|\n+------------+-----------------+--------+--------------------+----------+---------+-------+--------+----+-------+------+\nonly showing top 5 rows\n\n"
     ]
    }
   ],
   "source": [
    "# Add columns year, month, day\n",
    "\n",
    "add_columns_df = cast_datecolumns_df.withColumn('year', year(col('date')))\\\n",
    "    .withColumn('month', date_format(col('date'), 'MMMM'))\\\n",
    "    .withColumn('day', date_format(col('date'), 'EEEE'))\n",
    "add_columns_df.show(5)"
   ]
  },
  {
   "cell_type": "code",
   "execution_count": 0,
   "metadata": {
    "application/vnd.databricks.v1+cell": {
     "cellMetadata": {
      "byteLimit": 2048000,
      "rowLimit": 10000
     },
     "inputWidgets": {},
     "nuid": "968d6a48-bdab-4271-8b2a-f2f1e81d5c9a",
     "showTitle": false,
     "title": ""
    }
   },
   "outputs": [
    {
     "output_type": "stream",
     "name": "stdout",
     "output_type": "stream",
     "text": [
      "+------------+-----------------+--------+--------------------+---------+-------+--------+----+-------+------+\n|  department|     municipality|    code|           armaments|   gender|  group|quantity|year|  month|   day|\n+------------+-----------------+--------+--------------------+---------+-------+--------+----+-------+------+\n|   ATLÁNTICO|BARRANQUILLA (CT)| 8001000|ARMA BLANCA / COR...|MASCULINO|ADULTOS|       1|2010|January|Friday|\n|      BOYACÁ|          DUITAMA|15238000|ARMA BLANCA / COR...| FEMENINO|ADULTOS|       1|2010|January|Friday|\n|     CAQUETÁ|      PUERTO RICO|18592000|ARMA BLANCA / COR...|MASCULINO|ADULTOS|       1|2010|January|Friday|\n|    CASANARE|             MANÍ|85139000|ARMA BLANCA / COR...| FEMENINO|ADULTOS|       1|2010|January|Friday|\n|CUNDINAMARCA| BOGOTÁ D.C. (CT)|11001000|ARMA BLANCA / COR...| FEMENINO|ADULTOS|       1|2010|January|Friday|\n+------------+-----------------+--------+--------------------+---------+-------+--------+----+-------+------+\nonly showing top 5 rows\n\n"
     ]
    }
   ],
   "source": [
    "# Remove column date\n",
    "df_filter = add_columns_df.drop(col('date'))\n",
    "df_filter.show(5)"
   ]
  },
  {
   "cell_type": "code",
   "execution_count": 0,
   "metadata": {
    "application/vnd.databricks.v1+cell": {
     "cellMetadata": {
      "byteLimit": 2048000,
      "rowLimit": 10000
     },
     "inputWidgets": {},
     "nuid": "42a391bb-bb93-487e-86e2-d6a2b634b0d2",
     "showTitle": false,
     "title": ""
    }
   },
   "outputs": [
    {
     "output_type": "stream",
     "name": "stdout",
     "output_type": "stream",
     "text": [
      "+------------+-----------------+--------+--------------------+------+-------+--------+----+-------+------+\n|  department|     municipality|    code|           armaments|gender|  group|quantity|year|  month|   day|\n+------------+-----------------+--------+--------------------+------+-------+--------+----+-------+------+\n|   ATLÁNTICO|BARRANQUILLA (CT)| 8001000|ARMA BLANCA / COR...|     M|ADULTOS|       1|2010|January|Friday|\n|      BOYACÁ|          DUITAMA|15238000|ARMA BLANCA / COR...|     F|ADULTOS|       1|2010|January|Friday|\n|     CAQUETÁ|      PUERTO RICO|18592000|ARMA BLANCA / COR...|     M|ADULTOS|       1|2010|January|Friday|\n|    CASANARE|             MANÍ|85139000|ARMA BLANCA / COR...|     F|ADULTOS|       1|2010|January|Friday|\n|CUNDINAMARCA| BOGOTÁ D.C. (CT)|11001000|ARMA BLANCA / COR...|     F|ADULTOS|       1|2010|January|Friday|\n+------------+-----------------+--------+--------------------+------+-------+--------+----+-------+------+\nonly showing top 5 rows\n\n"
     ]
    }
   ],
   "source": [
    "#Filter sex column\n",
    "filter_gender_df = df_filter.withColumn('gender', when( lower(col('gender')) == 'masculino', 'M' )\\\n",
    "                    .when( lower(col('gender')) == 'femenino', 'F' ).otherwise(col('gender')) )\n",
    "filter_gender_df.show(5)"
   ]
  },
  {
   "cell_type": "code",
   "execution_count": 0,
   "metadata": {
    "application/vnd.databricks.v1+cell": {
     "cellMetadata": {
      "byteLimit": 2048000,
      "rowLimit": 10000
     },
     "inputWidgets": {},
     "nuid": "f9b19b67-c8a3-4cb5-b6c5-6927d7eabf80",
     "showTitle": false,
     "title": ""
    }
   },
   "outputs": [
    {
     "output_type": "stream",
     "name": "stdout",
     "output_type": "stream",
     "text": [
      "+------------+-----------------+--------+--------------------+------+------------+--------+----+-------+------+\n|  department|     municipality|    code|           armaments|gender|age_category|quantity|year|  month|   day|\n+------------+-----------------+--------+--------------------+------+------------+--------+----+-------+------+\n|   ATLÁNTICO|BARRANQUILLA (CT)| 8001000|ARMA BLANCA / COR...|     M|     ADULTOS|       1|2010|January|Friday|\n|      BOYACÁ|          DUITAMA|15238000|ARMA BLANCA / COR...|     F|     ADULTOS|       1|2010|January|Friday|\n|     CAQUETÁ|      PUERTO RICO|18592000|ARMA BLANCA / COR...|     M|     ADULTOS|       1|2010|January|Friday|\n|    CASANARE|             MANÍ|85139000|ARMA BLANCA / COR...|     F|     ADULTOS|       1|2010|January|Friday|\n|CUNDINAMARCA| BOGOTÁ D.C. (CT)|11001000|ARMA BLANCA / COR...|     F|     ADULTOS|       1|2010|January|Friday|\n|       SUCRE|   SINCELEJO (CT)|70001000|ARMA BLANCA / COR...|     F|     ADULTOS|       1|2010|January|Friday|\n|       VALLE|        CALI (CT)|76001000|ARMA BLANCA / COR...|     F|     ADULTOS|       2|2010|January|Friday|\n|       VALLE|        CALI (CT)|76001000|ARMA BLANCA / COR...|     M|     ADULTOS|       2|2010|January|Friday|\n|       VALLE|            TULUÁ|76834000|ARMA BLANCA / COR...|     F|     ADULTOS|       1|2010|January|Friday|\n|       HUILA|         PITALITO|41551000|       ARMA DE FUEGO|     F|     ADULTOS|       1|2010|January|Friday|\n|   ANTIOQUIA|        GIRARDOTA| 5308000|        CONTUNDENTES|     F|     ADULTOS|       1|2010|January|Friday|\n|   ANTIOQUIA|           ITAGUI| 5360000|        CONTUNDENTES|     F|     ADULTOS|       2|2010|January|Friday|\n|   ANTIOQUIA|      LA ESTRELLA| 5380000|        CONTUNDENTES|     F|     ADULTOS|       1|2010|January|Friday|\n|   ANTIOQUIA|    MEDELLÍN (CT)| 5001000|        CONTUNDENTES|     F|     ADULTOS|       3|2010|January|Friday|\n|   ANTIOQUIA|    MEDELLÍN (CT)| 5001000|        CONTUNDENTES|     M|     ADULTOS|       1|2010|January|Friday|\n|      ARAUCA|      ARAUCA (CT)|81001000|        CONTUNDENTES|     F|     ADULTOS|       2|2010|January|Friday|\n|   ATLÁNTICO|BARRANQUILLA (CT)| 8001000|        CONTUNDENTES|     F|     ADULTOS|       2|2010|January|Friday|\n|   ATLÁNTICO|BARRANQUILLA (CT)| 8001000|        CONTUNDENTES|     M|     ADULTOS|       1|2010|January|Friday|\n|   ATLÁNTICO|      SABANALARGA| 8638000|        CONTUNDENTES|     F|     ADULTOS|       1|2010|January|Friday|\n|   ATLÁNTICO|          SOLEDAD| 8758000|        CONTUNDENTES|     F|     ADULTOS|       1|2010|January|Friday|\n+------------+-----------------+--------+--------------------+------+------------+--------+----+-------+------+\nonly showing top 20 rows\n\n"
     ]
    }
   ],
   "source": [
    "df = filter_gender_df.withColumnRenamed('group', 'age_category')\n",
    "df.show()"
   ]
  },
  {
   "cell_type": "code",
   "execution_count": 0,
   "metadata": {
    "application/vnd.databricks.v1+cell": {
     "cellMetadata": {
      "byteLimit": 2048000,
      "rowLimit": 10000
     },
     "inputWidgets": {},
     "nuid": "3d542c72-f71a-4ea8-8c8c-04897d809ec5",
     "showTitle": false,
     "title": ""
    }
   },
   "outputs": [
    {
     "output_type": "stream",
     "name": "stdout",
     "output_type": "stream",
     "text": [
      "+--------+----+-------+------+------------+-----------------+--------------------+------+------------+--------+\n|    code|year|  month|   day|  department|     municipality|           armaments|gender|age_category|quantity|\n+--------+----+-------+------+------------+-----------------+--------------------+------+------------+--------+\n| 8001000|2010|January|Friday|   ATLÁNTICO|BARRANQUILLA (CT)|ARMA BLANCA / COR...|     M|     ADULTOS|       1|\n|15238000|2010|January|Friday|      BOYACÁ|          DUITAMA|ARMA BLANCA / COR...|     F|     ADULTOS|       1|\n|18592000|2010|January|Friday|     CAQUETÁ|      PUERTO RICO|ARMA BLANCA / COR...|     M|     ADULTOS|       1|\n|85139000|2010|January|Friday|    CASANARE|             MANÍ|ARMA BLANCA / COR...|     F|     ADULTOS|       1|\n|11001000|2010|January|Friday|CUNDINAMARCA| BOGOTÁ D.C. (CT)|ARMA BLANCA / COR...|     F|     ADULTOS|       1|\n|70001000|2010|January|Friday|       SUCRE|   SINCELEJO (CT)|ARMA BLANCA / COR...|     F|     ADULTOS|       1|\n|76001000|2010|January|Friday|       VALLE|        CALI (CT)|ARMA BLANCA / COR...|     F|     ADULTOS|       2|\n|76001000|2010|January|Friday|       VALLE|        CALI (CT)|ARMA BLANCA / COR...|     M|     ADULTOS|       2|\n|76834000|2010|January|Friday|       VALLE|            TULUÁ|ARMA BLANCA / COR...|     F|     ADULTOS|       1|\n|41551000|2010|January|Friday|       HUILA|         PITALITO|       ARMA DE FUEGO|     F|     ADULTOS|       1|\n| 5308000|2010|January|Friday|   ANTIOQUIA|        GIRARDOTA|        CONTUNDENTES|     F|     ADULTOS|       1|\n| 5360000|2010|January|Friday|   ANTIOQUIA|           ITAGUI|        CONTUNDENTES|     F|     ADULTOS|       2|\n| 5380000|2010|January|Friday|   ANTIOQUIA|      LA ESTRELLA|        CONTUNDENTES|     F|     ADULTOS|       1|\n| 5001000|2010|January|Friday|   ANTIOQUIA|    MEDELLÍN (CT)|        CONTUNDENTES|     F|     ADULTOS|       3|\n| 5001000|2010|January|Friday|   ANTIOQUIA|    MEDELLÍN (CT)|        CONTUNDENTES|     M|     ADULTOS|       1|\n|81001000|2010|January|Friday|      ARAUCA|      ARAUCA (CT)|        CONTUNDENTES|     F|     ADULTOS|       2|\n| 8001000|2010|January|Friday|   ATLÁNTICO|BARRANQUILLA (CT)|        CONTUNDENTES|     F|     ADULTOS|       2|\n| 8001000|2010|January|Friday|   ATLÁNTICO|BARRANQUILLA (CT)|        CONTUNDENTES|     M|     ADULTOS|       1|\n| 8638000|2010|January|Friday|   ATLÁNTICO|      SABANALARGA|        CONTUNDENTES|     F|     ADULTOS|       1|\n| 8758000|2010|January|Friday|   ATLÁNTICO|          SOLEDAD|        CONTUNDENTES|     F|     ADULTOS|       1|\n+--------+----+-------+------+------------+-----------------+--------------------+------+------------+--------+\nonly showing top 20 rows\n\n"
     ]
    }
   ],
   "source": [
    "# Sort columns\n",
    "columns_order = ['code', 'year', 'month', 'day', 'department', 'municipality', 'armaments', 'gender', 'age_category', 'quantity']\n",
    "df = df.select(*columns_order)\n",
    "df.show()"
   ]
  },
  {
   "cell_type": "code",
   "execution_count": 0,
   "metadata": {
    "application/vnd.databricks.v1+cell": {
     "cellMetadata": {
      "byteLimit": 2048000,
      "rowLimit": 10000
     },
     "inputWidgets": {},
     "nuid": "132d1ae7-ad1f-4711-bc8e-62dc45400714",
     "showTitle": false,
     "title": ""
    }
   },
   "outputs": [
    {
     "output_type": "display_data",
     "data": {
      "text/html": [
       "<style scoped>\n",
       "  .table-result-container {\n",
       "    max-height: 300px;\n",
       "    overflow: auto;\n",
       "  }\n",
       "  table, th, td {\n",
       "    border: 1px solid black;\n",
       "    border-collapse: collapse;\n",
       "  }\n",
       "  th, td {\n",
       "    padding: 5px;\n",
       "  }\n",
       "  th {\n",
       "    text-align: left;\n",
       "  }\n",
       "</style><div class='table-result-container'><table class='table-result'><thead style='background-color: white'><tr><th>year</th><th>total_cases</th></tr></thead><tbody><tr><td>2020</td><td>102616</td></tr><tr><td>2019</td><td>52924</td></tr><tr><td>2017</td><td>50620</td></tr><tr><td>2016</td><td>50055</td></tr><tr><td>2018</td><td>48098</td></tr><tr><td>2015</td><td>45181</td></tr><tr><td>2014</td><td>30045</td></tr><tr><td>2021</td><td>22416</td></tr><tr><td>2013</td><td>21982</td></tr><tr><td>2012</td><td>20602</td></tr><tr><td>2011</td><td>17163</td></tr><tr><td>2010</td><td>15260</td></tr></tbody></table></div>"
      ]
     },
     "metadata": {
      "application/vnd.databricks.v1+output": {
       "addedWidgets": {},
       "aggData": [],
       "aggError": "",
       "aggOverflow": false,
       "aggSchema": [],
       "aggSeriesLimitReached": false,
       "aggType": "",
       "arguments": {},
       "columnCustomDisplayInfos": {},
       "data": [
        [
         2020,
         102616
        ],
        [
         2019,
         52924
        ],
        [
         2017,
         50620
        ],
        [
         2016,
         50055
        ],
        [
         2018,
         48098
        ],
        [
         2015,
         45181
        ],
        [
         2014,
         30045
        ],
        [
         2021,
         22416
        ],
        [
         2013,
         21982
        ],
        [
         2012,
         20602
        ],
        [
         2011,
         17163
        ],
        [
         2010,
         15260
        ]
       ],
       "datasetInfos": [],
       "dbfsResultPath": null,
       "isJsonSchema": true,
       "metadata": {},
       "overflow": false,
       "plotOptions": {
        "customPlotOptions": {},
        "displayType": "table",
        "pivotAggregation": null,
        "pivotColumns": null,
        "xColumns": null,
        "yColumns": null
       },
       "removedWidgets": [],
       "schema": [
        {
         "metadata": "{}",
         "name": "year",
         "type": "\"integer\""
        },
        {
         "metadata": "{}",
         "name": "total_cases",
         "type": "\"long\""
        }
       ],
       "type": "table"
      }
     },
     "output_type": "display_data"
    }
   ],
   "source": [
    "# Number of cases by year\n",
    "cases_by_date = df.groupBy('year').count().withColumnRenamed('count', 'total_cases')\\\n",
    "                .filter(col('year').isNotNull()).orderBy('total_cases', ascending=False)\n",
    "cases_by_date.display()"
   ]
  },
  {
   "cell_type": "code",
   "execution_count": 0,
   "metadata": {
    "application/vnd.databricks.v1+cell": {
     "cellMetadata": {
      "byteLimit": 2048000,
      "rowLimit": 10000
     },
     "inputWidgets": {},
     "nuid": "5d685ac7-5d50-4949-92d6-4e866b4db53b",
     "showTitle": false,
     "title": ""
    }
   },
   "outputs": [
    {
     "output_type": "display_data",
     "data": {
      "text/html": [
       "<style scoped>\n",
       "  .table-result-container {\n",
       "    max-height: 300px;\n",
       "    overflow: auto;\n",
       "  }\n",
       "  table, th, td {\n",
       "    border: 1px solid black;\n",
       "    border-collapse: collapse;\n",
       "  }\n",
       "  th, td {\n",
       "    padding: 5px;\n",
       "  }\n",
       "  th {\n",
       "    text-align: left;\n",
       "  }\n",
       "</style><div class='table-result-container'><table class='table-result'><thead style='background-color: white'><tr><th>department</th><th>total_cases</th></tr></thead><tbody><tr><td>CUNDINAMARCA</td><td>88100</td></tr><tr><td>ANTIOQUIA</td><td>57288</td></tr><tr><td>VALLE</td><td>44909</td></tr><tr><td>SANTANDER</td><td>38493</td></tr><tr><td>BOYACÁ</td><td>26920</td></tr><tr><td>ATLÁNTICO</td><td>17516</td></tr><tr><td>TOLIMA</td><td>17007</td></tr><tr><td>HUILA</td><td>16547</td></tr><tr><td>META</td><td>16223</td></tr><tr><td>BOLÍVAR</td><td>15954</td></tr></tbody></table></div>"
      ]
     },
     "metadata": {
      "application/vnd.databricks.v1+output": {
       "addedWidgets": {},
       "aggData": [],
       "aggError": "",
       "aggOverflow": false,
       "aggSchema": [],
       "aggSeriesLimitReached": false,
       "aggType": "",
       "arguments": {},
       "columnCustomDisplayInfos": {},
       "data": [
        [
         "CUNDINAMARCA",
         88100
        ],
        [
         "ANTIOQUIA",
         57288
        ],
        [
         "VALLE",
         44909
        ],
        [
         "SANTANDER",
         38493
        ],
        [
         "BOYACÁ",
         26920
        ],
        [
         "ATLÁNTICO",
         17516
        ],
        [
         "TOLIMA",
         17007
        ],
        [
         "HUILA",
         16547
        ],
        [
         "META",
         16223
        ],
        [
         "BOLÍVAR",
         15954
        ]
       ],
       "datasetInfos": [],
       "dbfsResultPath": null,
       "isJsonSchema": true,
       "metadata": {},
       "overflow": false,
       "plotOptions": {
        "customPlotOptions": {},
        "displayType": "table",
        "pivotAggregation": null,
        "pivotColumns": null,
        "xColumns": null,
        "yColumns": null
       },
       "removedWidgets": [],
       "schema": [
        {
         "metadata": "{}",
         "name": "department",
         "type": "\"string\""
        },
        {
         "metadata": "{}",
         "name": "total_cases",
         "type": "\"long\""
        }
       ],
       "type": "table"
      }
     },
     "output_type": "display_data"
    }
   ],
   "source": [
    "# Number of cases by Department \n",
    "cases_department = df.groupBy('department').count().withColumnRenamed('count', 'total_cases').orderBy('total_cases', ascending=False).limit(10)\n",
    "cases_department.display()"
   ]
  },
  {
   "cell_type": "code",
   "execution_count": 0,
   "metadata": {
    "application/vnd.databricks.v1+cell": {
     "cellMetadata": {
      "byteLimit": 2048000,
      "rowLimit": 10000
     },
     "inputWidgets": {},
     "nuid": "164fbb1a-a1b7-4bd4-8787-13c2ff74cda7",
     "showTitle": false,
     "title": ""
    }
   },
   "outputs": [
    {
     "output_type": "display_data",
     "data": {
      "text/html": [
       "<style scoped>\n",
       "  .table-result-container {\n",
       "    max-height: 300px;\n",
       "    overflow: auto;\n",
       "  }\n",
       "  table, th, td {\n",
       "    border: 1px solid black;\n",
       "    border-collapse: collapse;\n",
       "  }\n",
       "  th, td {\n",
       "    padding: 5px;\n",
       "  }\n",
       "  th {\n",
       "    text-align: left;\n",
       "  }\n",
       "</style><div class='table-result-container'><table class='table-result'><thead style='background-color: white'><tr><th>gender</th><th>total_cases</th></tr></thead><tbody><tr><td>F</td><td>366910</td></tr><tr><td>M</td><td>109759</td></tr><tr><td>NO REPORTA</td><td>294</td></tr></tbody></table></div>"
      ]
     },
     "metadata": {
      "application/vnd.databricks.v1+output": {
       "addedWidgets": {},
       "aggData": [],
       "aggError": "",
       "aggOverflow": false,
       "aggSchema": [],
       "aggSeriesLimitReached": false,
       "aggType": "",
       "arguments": {},
       "columnCustomDisplayInfos": {},
       "data": [
        [
         "F",
         366910
        ],
        [
         "M",
         109759
        ],
        [
         "NO REPORTA",
         294
        ]
       ],
       "datasetInfos": [],
       "dbfsResultPath": null,
       "isJsonSchema": true,
       "metadata": {},
       "overflow": false,
       "plotOptions": {
        "customPlotOptions": {},
        "displayType": "table",
        "pivotAggregation": null,
        "pivotColumns": null,
        "xColumns": null,
        "yColumns": null
       },
       "removedWidgets": [],
       "schema": [
        {
         "metadata": "{}",
         "name": "gender",
         "type": "\"string\""
        },
        {
         "metadata": "{}",
         "name": "total_cases",
         "type": "\"long\""
        }
       ],
       "type": "table"
      }
     },
     "output_type": "display_data"
    }
   ],
   "source": [
    "# Number of cases by gender \n",
    "cases_gender = df.where(col('gender') != '-').groupBy('gender').count().withColumnRenamed('count', 'total_cases')\\\n",
    "                .orderBy('total_cases', ascending=False)\n",
    "cases_gender.display()"
   ]
  },
  {
   "cell_type": "code",
   "execution_count": 0,
   "metadata": {
    "application/vnd.databricks.v1+cell": {
     "cellMetadata": {
      "byteLimit": 2048000,
      "rowLimit": 10000
     },
     "inputWidgets": {},
     "nuid": "472282bd-4ab0-42c9-a008-2510d84cfde7",
     "showTitle": false,
     "title": ""
    }
   },
   "outputs": [
    {
     "output_type": "display_data",
     "data": {
      "text/html": [
       "<style scoped>\n",
       "  .table-result-container {\n",
       "    max-height: 300px;\n",
       "    overflow: auto;\n",
       "  }\n",
       "  table, th, td {\n",
       "    border: 1px solid black;\n",
       "    border-collapse: collapse;\n",
       "  }\n",
       "  th, td {\n",
       "    padding: 5px;\n",
       "  }\n",
       "  th {\n",
       "    text-align: left;\n",
       "  }\n",
       "</style><div class='table-result-container'><table class='table-result'><thead style='background-color: white'><tr><th>armaments</th><th>total_cases</th></tr></thead><tbody><tr><td>SIN EMPLEO DE ARMAS</td><td>12091</td></tr><tr><td>CONTUNDENTES</td><td>9323</td></tr><tr><td>ARMA BLANCA / CORTOPUNZANTE</td><td>902</td></tr><tr><td>ARMA DE FUEGO</td><td>98</td></tr><tr><td>NO REPORTADO</td><td>2</td></tr></tbody></table></div>"
      ]
     },
     "metadata": {
      "application/vnd.databricks.v1+output": {
       "addedWidgets": {},
       "aggData": [],
       "aggError": "",
       "aggOverflow": false,
       "aggSchema": [],
       "aggSeriesLimitReached": false,
       "aggType": "",
       "arguments": {},
       "columnCustomDisplayInfos": {},
       "data": [
        [
         "SIN EMPLEO DE ARMAS",
         12091
        ],
        [
         "CONTUNDENTES",
         9323
        ],
        [
         "ARMA BLANCA / CORTOPUNZANTE",
         902
        ],
        [
         "ARMA DE FUEGO",
         98
        ],
        [
         "NO REPORTADO",
         2
        ]
       ],
       "datasetInfos": [],
       "dbfsResultPath": null,
       "isJsonSchema": true,
       "metadata": {},
       "overflow": false,
       "plotOptions": {
        "customPlotOptions": {},
        "displayType": "table",
        "pivotAggregation": null,
        "pivotColumns": null,
        "xColumns": null,
        "yColumns": null
       },
       "removedWidgets": [],
       "schema": [
        {
         "metadata": "{}",
         "name": "armaments",
         "type": "\"string\""
        },
        {
         "metadata": "{}",
         "name": "total_cases",
         "type": "\"long\""
        }
       ],
       "type": "table"
      }
     },
     "output_type": "display_data"
    }
   ],
   "source": [
    "#Armaments most used in 2021\n",
    "cases_armaments = df.where(col('armaments') != '-').where(col('year') == '2021').groupBy('armaments').count()\\\n",
    "                    .withColumnRenamed('count', 'total_cases').orderBy('total_cases', ascending=False)\n",
    "cases_armaments.display()"
   ]
  }
 ],
 "metadata": {
  "application/vnd.databricks.v1+notebook": {
   "dashboards": [],
   "language": "python",
   "notebookMetadata": {
    "mostRecentlyExecutedCommandWithImplicitDF": {
     "commandId": -1,
     "dataframes": [
      "_sqldf"
     ]
    },
    "pythonIndentUnit": 4
   },
   "notebookName": "Domestic Violence",
   "widgets": {}
  }
 },
 "nbformat": 4,
 "nbformat_minor": 0
}
